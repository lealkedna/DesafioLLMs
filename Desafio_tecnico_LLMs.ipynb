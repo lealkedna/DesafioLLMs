{
  "nbformat": 4,
  "nbformat_minor": 0,
  "metadata": {
    "colab": {
      "provenance": [],
      "authorship_tag": "ABX9TyNswaL84E+Yh0TyFS5w8OUx",
      "include_colab_link": true
    },
    "kernelspec": {
      "name": "python3",
      "display_name": "Python 3"
    },
    "language_info": {
      "name": "python"
    }
  },
  "cells": [
    {
      "cell_type": "markdown",
      "metadata": {
        "id": "view-in-github",
        "colab_type": "text"
      },
      "source": [
        "<a href=\"https://colab.research.google.com/github/lealkedna/DesafioLLMs/blob/main/Desafio_tecnico_LLMs.ipynb\" target=\"_parent\"><img src=\"https://colab.research.google.com/assets/colab-badge.svg\" alt=\"Open In Colab\"/></a>"
      ]
    },
    {
      "cell_type": "markdown",
      "source": [
        "## Objetivo\n",
        "\n",
        "Desenvolver uma solução que acesse pelo menos três plataformas de Modelos\n",
        "de Linguagem de Grande Escala (LLMs) diferentes, gere respostas para uma mesma\n",
        "pergunta e realize uma análise comparativa da qualidade das respostas"
      ],
      "metadata": {
        "id": "ihPSH6ORPXqW"
      }
    },
    {
      "cell_type": "code",
      "execution_count": 1,
      "metadata": {
        "colab": {
          "base_uri": "https://localhost:8080/"
        },
        "collapsed": true,
        "id": "IltmJZFmO1_o",
        "outputId": "c00c0618-2f63-4911-dbfa-c82048836506"
      },
      "outputs": [
        {
          "output_type": "stream",
          "name": "stdout",
          "text": [
            "Collecting aisuite[all]\n",
            "  Downloading aisuite-0.1.10-py3-none-any.whl.metadata (9.2 kB)\n",
            "Collecting anthropic<0.31.0,>=0.30.1 (from aisuite[all])\n",
            "  Downloading anthropic-0.30.1-py3-none-any.whl.metadata (18 kB)\n",
            "Collecting cohere<6.0.0,>=5.12.0 (from aisuite[all])\n",
            "  Downloading cohere-5.13.12-py3-none-any.whl.metadata (3.4 kB)\n",
            "Collecting groq<0.10.0,>=0.9.0 (from aisuite[all])\n",
            "  Downloading groq-0.9.0-py3-none-any.whl.metadata (13 kB)\n",
            "Collecting httpx<0.28.0,>=0.27.0 (from aisuite[all])\n",
            "  Downloading httpx-0.27.2-py3-none-any.whl.metadata (7.1 kB)\n",
            "Requirement already satisfied: openai<2.0.0,>=1.35.8 in /usr/local/lib/python3.11/dist-packages (from aisuite[all]) (1.61.1)\n",
            "Requirement already satisfied: anyio<5,>=3.5.0 in /usr/local/lib/python3.11/dist-packages (from anthropic<0.31.0,>=0.30.1->aisuite[all]) (3.7.1)\n",
            "Requirement already satisfied: distro<2,>=1.7.0 in /usr/local/lib/python3.11/dist-packages (from anthropic<0.31.0,>=0.30.1->aisuite[all]) (1.9.0)\n",
            "Requirement already satisfied: jiter<1,>=0.4.0 in /usr/local/lib/python3.11/dist-packages (from anthropic<0.31.0,>=0.30.1->aisuite[all]) (0.8.2)\n",
            "Requirement already satisfied: pydantic<3,>=1.9.0 in /usr/local/lib/python3.11/dist-packages (from anthropic<0.31.0,>=0.30.1->aisuite[all]) (2.10.6)\n",
            "Requirement already satisfied: sniffio in /usr/local/lib/python3.11/dist-packages (from anthropic<0.31.0,>=0.30.1->aisuite[all]) (1.3.1)\n",
            "Requirement already satisfied: tokenizers>=0.13.0 in /usr/local/lib/python3.11/dist-packages (from anthropic<0.31.0,>=0.30.1->aisuite[all]) (0.21.0)\n",
            "Requirement already satisfied: typing-extensions<5,>=4.7 in /usr/local/lib/python3.11/dist-packages (from anthropic<0.31.0,>=0.30.1->aisuite[all]) (4.12.2)\n",
            "Collecting fastavro<2.0.0,>=1.9.4 (from cohere<6.0.0,>=5.12.0->aisuite[all])\n",
            "  Downloading fastavro-1.10.0-cp311-cp311-manylinux_2_17_x86_64.manylinux2014_x86_64.whl.metadata (5.5 kB)\n",
            "Collecting httpx-sse==0.4.0 (from cohere<6.0.0,>=5.12.0->aisuite[all])\n",
            "  Downloading httpx_sse-0.4.0-py3-none-any.whl.metadata (9.0 kB)\n",
            "Requirement already satisfied: pydantic-core<3.0.0,>=2.18.2 in /usr/local/lib/python3.11/dist-packages (from cohere<6.0.0,>=5.12.0->aisuite[all]) (2.27.2)\n",
            "Requirement already satisfied: requests<3.0.0,>=2.0.0 in /usr/local/lib/python3.11/dist-packages (from cohere<6.0.0,>=5.12.0->aisuite[all]) (2.32.3)\n",
            "Collecting types-requests<3.0.0,>=2.0.0 (from cohere<6.0.0,>=5.12.0->aisuite[all])\n",
            "  Downloading types_requests-2.32.0.20241016-py3-none-any.whl.metadata (1.9 kB)\n",
            "Requirement already satisfied: certifi in /usr/local/lib/python3.11/dist-packages (from httpx<0.28.0,>=0.27.0->aisuite[all]) (2025.1.31)\n",
            "Requirement already satisfied: httpcore==1.* in /usr/local/lib/python3.11/dist-packages (from httpx<0.28.0,>=0.27.0->aisuite[all]) (1.0.7)\n",
            "Requirement already satisfied: idna in /usr/local/lib/python3.11/dist-packages (from httpx<0.28.0,>=0.27.0->aisuite[all]) (3.10)\n",
            "Requirement already satisfied: h11<0.15,>=0.13 in /usr/local/lib/python3.11/dist-packages (from httpcore==1.*->httpx<0.28.0,>=0.27.0->aisuite[all]) (0.14.0)\n",
            "Requirement already satisfied: tqdm>4 in /usr/local/lib/python3.11/dist-packages (from openai<2.0.0,>=1.35.8->aisuite[all]) (4.67.1)\n",
            "Requirement already satisfied: annotated-types>=0.6.0 in /usr/local/lib/python3.11/dist-packages (from pydantic<3,>=1.9.0->anthropic<0.31.0,>=0.30.1->aisuite[all]) (0.7.0)\n",
            "Requirement already satisfied: charset-normalizer<4,>=2 in /usr/local/lib/python3.11/dist-packages (from requests<3.0.0,>=2.0.0->cohere<6.0.0,>=5.12.0->aisuite[all]) (3.4.1)\n",
            "Requirement already satisfied: urllib3<3,>=1.21.1 in /usr/local/lib/python3.11/dist-packages (from requests<3.0.0,>=2.0.0->cohere<6.0.0,>=5.12.0->aisuite[all]) (2.3.0)\n",
            "Requirement already satisfied: huggingface-hub<1.0,>=0.16.4 in /usr/local/lib/python3.11/dist-packages (from tokenizers>=0.13.0->anthropic<0.31.0,>=0.30.1->aisuite[all]) (0.28.1)\n",
            "Requirement already satisfied: filelock in /usr/local/lib/python3.11/dist-packages (from huggingface-hub<1.0,>=0.16.4->tokenizers>=0.13.0->anthropic<0.31.0,>=0.30.1->aisuite[all]) (3.17.0)\n",
            "Requirement already satisfied: fsspec>=2023.5.0 in /usr/local/lib/python3.11/dist-packages (from huggingface-hub<1.0,>=0.16.4->tokenizers>=0.13.0->anthropic<0.31.0,>=0.30.1->aisuite[all]) (2024.10.0)\n",
            "Requirement already satisfied: packaging>=20.9 in /usr/local/lib/python3.11/dist-packages (from huggingface-hub<1.0,>=0.16.4->tokenizers>=0.13.0->anthropic<0.31.0,>=0.30.1->aisuite[all]) (24.2)\n",
            "Requirement already satisfied: pyyaml>=5.1 in /usr/local/lib/python3.11/dist-packages (from huggingface-hub<1.0,>=0.16.4->tokenizers>=0.13.0->anthropic<0.31.0,>=0.30.1->aisuite[all]) (6.0.2)\n",
            "Downloading anthropic-0.30.1-py3-none-any.whl (863 kB)\n",
            "\u001b[2K   \u001b[90m━━━━━━━━━━━━━━━━━━━━━━━━━━━━━━━━━━━━━━━━\u001b[0m \u001b[32m863.9/863.9 kB\u001b[0m \u001b[31m15.2 MB/s\u001b[0m eta \u001b[36m0:00:00\u001b[0m\n",
            "\u001b[?25hDownloading cohere-5.13.12-py3-none-any.whl (252 kB)\n",
            "\u001b[2K   \u001b[90m━━━━━━━━━━━━━━━━━━━━━━━━━━━━━━━━━━━━━━━━\u001b[0m \u001b[32m252.9/252.9 kB\u001b[0m \u001b[31m14.8 MB/s\u001b[0m eta \u001b[36m0:00:00\u001b[0m\n",
            "\u001b[?25hDownloading httpx_sse-0.4.0-py3-none-any.whl (7.8 kB)\n",
            "Downloading groq-0.9.0-py3-none-any.whl (103 kB)\n",
            "\u001b[2K   \u001b[90m━━━━━━━━━━━━━━━━━━━━━━━━━━━━━━━━━━━━━━━━\u001b[0m \u001b[32m103.5/103.5 kB\u001b[0m \u001b[31m7.1 MB/s\u001b[0m eta \u001b[36m0:00:00\u001b[0m\n",
            "\u001b[?25hDownloading httpx-0.27.2-py3-none-any.whl (76 kB)\n",
            "\u001b[2K   \u001b[90m━━━━━━━━━━━━━━━━━━━━━━━━━━━━━━━━━━━━━━━━\u001b[0m \u001b[32m76.4/76.4 kB\u001b[0m \u001b[31m5.4 MB/s\u001b[0m eta \u001b[36m0:00:00\u001b[0m\n",
            "\u001b[?25hDownloading aisuite-0.1.10-py3-none-any.whl (43 kB)\n",
            "\u001b[2K   \u001b[90m━━━━━━━━━━━━━━━━━━━━━━━━━━━━━━━━━━━━━━━━\u001b[0m \u001b[32m44.0/44.0 kB\u001b[0m \u001b[31m2.8 MB/s\u001b[0m eta \u001b[36m0:00:00\u001b[0m\n",
            "\u001b[?25hDownloading fastavro-1.10.0-cp311-cp311-manylinux_2_17_x86_64.manylinux2014_x86_64.whl (3.3 MB)\n",
            "\u001b[2K   \u001b[90m━━━━━━━━━━━━━━━━━━━━━━━━━━━━━━━━━━━━━━━━\u001b[0m \u001b[32m3.3/3.3 MB\u001b[0m \u001b[31m66.3 MB/s\u001b[0m eta \u001b[36m0:00:00\u001b[0m\n",
            "\u001b[?25hDownloading types_requests-2.32.0.20241016-py3-none-any.whl (15 kB)\n",
            "Installing collected packages: types-requests, httpx-sse, fastavro, httpx, groq, aisuite, cohere, anthropic\n",
            "  Attempting uninstall: httpx\n",
            "    Found existing installation: httpx 0.28.1\n",
            "    Uninstalling httpx-0.28.1:\n",
            "      Successfully uninstalled httpx-0.28.1\n",
            "Successfully installed aisuite-0.1.10 anthropic-0.30.1 cohere-5.13.12 fastavro-1.10.0 groq-0.9.0 httpx-0.27.2 httpx-sse-0.4.0 types-requests-2.32.0.20241016\n",
            "Requirement already satisfied: tabulate in /usr/local/lib/python3.11/dist-packages (0.9.0)\n"
          ]
        }
      ],
      "source": [
        " !pip install aisuite[all]\n",
        " !pip install tabulate\n"
      ]
    },
    {
      "cell_type": "markdown",
      "source": [
        "Configurações API Keys como as chaves de API como variavéis de ambiente\n"
      ],
      "metadata": {
        "id": "26YdO5eFPqIw"
      }
    },
    {
      "cell_type": "code",
      "source": [
        "import os\n",
        "from getpass import getpass\n",
        "os.environ[\"GROQ_API_KEY\"] = getpass(\"GROQ_API_KEY\")\n",
        "os.environ[\"ANTHROPIC_API_KEY\"] = getpass(\"ANTHROPIC_API_KEY\")"
      ],
      "metadata": {
        "colab": {
          "base_uri": "https://localhost:8080/"
        },
        "id": "Toz7lR5APoJF",
        "outputId": "db0b137a-ff9a-42fd-b44d-a4ad9e0bde6a"
      },
      "execution_count": 2,
      "outputs": [
        {
          "name": "stdout",
          "output_type": "stream",
          "text": [
            "GROQ_API_KEY··········\n",
            "ANTHROPIC_API_KEY··········\n"
          ]
        }
      ]
    },
    {
      "cell_type": "markdown",
      "source": [
        "Criação de uma função ask para interagir com o modelo de linguagem"
      ],
      "metadata": {
        "id": "NaEpqOARTeaY"
      }
    },
    {
      "cell_type": "code",
      "source": [
        "import aisuite as ai\n",
        "\n",
        "client = ai.Client()\n",
        "\n",
        "messages = [\n",
        "    {\"role\": \"system\", \"content\": \"responda de forma clara e objetiva.\"},\n",
        "    {\"role\": \"user\", \"content\": \"Hi\"},\n",
        "]\n",
        "\n",
        "response = client.chat.completions.create(model=\"groq:deepseek-r1-distill-qwen-32b\", messages=messages)\n",
        "\n",
        " # model=\"gpt-3.5-turbo\",\n",
        "print(response.choices[0].message.content)\n",
        "\n",
        "def ask(message, sys_message=\"You are a helpful agent.\",\n",
        "        model=\"groq:deepseek-r1-distill-qwen-32b\"):\n",
        "    messages = [\n",
        "        {\"role\": \"system\", \"content\": sys_message},\n",
        "        {\"role\": \"user\", \"content\": message},\n",
        "    ]\n",
        "    response = client.chat.completions.create(model=model, messages=messages)\n",
        "\n",
        "    return response.choices[0].message.content"
      ],
      "metadata": {
        "colab": {
          "base_uri": "https://localhost:8080/"
        },
        "id": "T7TZeA-VTYNY",
        "outputId": "9bc179bc-cc0d-4841-8c07-533fd5490b99"
      },
      "execution_count": 3,
      "outputs": [
        {
          "output_type": "stream",
          "name": "stdout",
          "text": [
            "Claro! Em que posso ajudá-lo?\n"
          ]
        }
      ]
    },
    {
      "cell_type": "markdown",
      "source": [
        "## Coleta respostas dos modelos"
      ],
      "metadata": {
        "id": "YxjJGeQZTDSt"
      }
    },
    {
      "cell_type": "code",
      "source": [
        "from pprint import pprint\n",
        "import json\n",
        "\n",
        "\n",
        "providers = [\n",
        "    'groq:llama-3.3-70b-specdec',\n",
        "    'anthropic:claude-3-5-haiku-20241022',\n",
        "    'groq:deepseek-r1-distill-qwen-32b',\n",
        "    'groq:mixtral-8x7b-32768',\n",
        "    # 'groq:qwen-2.5-coder-32b'\n",
        "]\n",
        "\n",
        "perguntas = [\n",
        "    \"O que vc sabe sobre a cognitiva Brasil?\",\n",
        "    \"Qual o valor da cotação do dólar hoje?\",\n",
        "    \"Quais são as principais notícias do mundo hoje?\"\n",
        "    #pode adicionar mais perguntas aqui\n",
        "]\n",
        "\n",
        "# Armazenar respostas de cada modelo\n",
        "respostas_por_pergunta = {pergunta: {provider: None for provider in providers} for pergunta in perguntas}\n",
        "\n",
        "# Função para coletar respostas dos modelos\n",
        "def coletar_respostas():\n",
        "    for provider in providers:\n",
        "        for pergunta in perguntas:\n",
        "            try:\n",
        "                resposta = ask(pergunta, model=provider)\n",
        "                respostas_por_pergunta[pergunta][provider] = resposta\n",
        "            except Exception as e:\n",
        "                respostas_por_pergunta[pergunta][provider] = f\"Erro ao acessar {provider}: {str(e)}\"\n",
        "    print(\"Respostas coletadas com sucesso!\")\n",
        "\n",
        "coletar_respostas()\n",
        "\n",
        "# Exibir em formato JSON organizado\n",
        "for pergunta in perguntas:\n",
        "    print(f\"\\n📌 Pergunta: {pergunta}\")\n",
        "    print(json.dumps(respostas_por_pergunta[pergunta], indent=4, ensure_ascii=False))"
      ],
      "metadata": {
        "colab": {
          "base_uri": "https://localhost:8080/"
        },
        "collapsed": true,
        "id": "QH3KFpm4TKCe",
        "outputId": "6f2d5121-b284-41a4-b990-5c55de918bb0"
      },
      "execution_count": 6,
      "outputs": [
        {
          "output_type": "stream",
          "name": "stdout",
          "text": [
            "Respostas coletadas com sucesso!\n",
            "\n",
            "📌 Pergunta: O que vc sabe sobre a cognitiva Brasil?\n",
            "{\n",
            "    \"groq:llama-3.3-70b-specdec\": \"Olá! A Cognitiva Brasil é uma empresa brasileira de soluções de inteligência artificial (IA) e ciência de dados. Aqui está o que sei sobre a empresa:\\n\\n**História e Fundação**: A Cognitiva Brasil foi fundada em 2015, em São Paulo, Brasil. A empresa nasceu com o objetivo de ajudar as organizações a extrair valor dos seus dados e melhorar a tomada de decisões por meio da aplicação de técnicas de inteligência artificial e ciência de dados.\\n\\n**Atividades e Serviços**: A Cognitiva Brasil oferece uma variedade de serviços e soluções em inteligência artificial e ciência de dados, incluindo:\\n\\n* Desenvolvimento de modelos de previsão e análise de dados\\n* Implementação de soluções de aprendizado de máquina (Machine Learning)\\n* Análise de dados e visualização de informações\\n* Desenvolvimento de sistemas de recomendação\\n* Otimização de processos e automatização de tarefas\\n* Consultoria em estratégia de dados e inteligência artificial\\n\\n**Setores Atendidos**: A Cognitiva Brasil atende a uma variedade de setores, incluindo:\\n\\n* Finanças e bancos\\n* Varejo e comércio eletrônico\\n* Saúde e bem-estar\\n* Indústria e manufatura\\n* Serviços e consultoria\\n\\n**Tecnologias e Ferramentas**: A Cognitiva Brasil trabalha com uma variedade de tecnologias e ferramentas, incluindo:\\n\\n* Linguagens de programação como Python, R e Julia\\n* Bibliotecas de inteligência artificial como TensorFlow, Keras e PyTorch\\n* Ferramentas de análise de dados como Tableau, Power BI e QlikView\\n* Sistemas de gerenciamento de dados como SQL e NoSQL\\n\\n**Certificações e Prêmios**: A Cognitiva Brasil possui certificações e prêmios, como a certificação Great Place to Work, que reconhece a empresa como um local de trabalho de alta qualidade.\\n\\n**Equipe e Cultura**: A Cognitiva Brasil tem uma equipe diversificada e qualificada, com profissionais de diferentes áreas, como ciência de dados, inteligência artificial, engenharia e consultoria. A empresa valoriza a inovação, a colaboração e o aprendizado contínuo, e oferece um ambiente de trabalho dinâmico e estimulante.\\n\\nEssas são algumas das informações que eu consegui encontrar sobre a Cognitiva Brasil. Se você tiver alguma pergunta específica ou precisar de mais informações, sinta-se à vontade para perguntar!\",\n",
            "    \"anthropic:claude-3-5-haiku-20241022\": \"A Cognitiva Brasil é uma empresa brasileira especializada em tecnologia e inteligência artificial, com foco em soluções de conversação e processamento de linguagem natural. Alguns pontos importantes:\\n\\n1. Fundação: Foi fundada em São Paulo, Brasil\\n\\n2. Área de atuação:\\n- Desenvolvimento de chatbots\\n- Soluções de inteligência artificial\\n- Processamento de linguagem natural\\n- Assistentes virtuais\\n\\n3. Principais serviços:\\n- Desenvolvimento de soluções conversacionais\\n- Automação de atendimento\\n- Inteligência artificial para empresas\\n\\n4. Características:\\n- Empresa nacional\\n- Foco em tecnologias brasileiras\\n- Soluções adaptadas para o mercado local\\n\\nNo entanto, para informações mais detalhadas e atualizadas, recomendo consultar o site oficial da empresa ou fontes específicas, pois posso não ter todas as informações mais recentes.\\n\\nDeseja que eu detalhe algum aspecto específico sobre a Cognitiva Brasil?\",\n",
            "    \"groq:deepseek-r1-distill-qwen-32b\": \"\\\"Cognitiva Brasil\\\" pode se referir a tecnologias cognitivas desenvolvidas ou aplicadas no Brasil. As tecnologias cognitivas são uma categoria de sistemas de computação que simulam processos humanos de pensamento, incluindo aprendizado de máquina, processamento de linguagem natural e visão computacional.\\n\\nNo Brasil, essas tecnologias são utilizadas em diversas áreas, como saúde, educação, finanças e indústria. Por exemplo, a IBM, uma das líderes globais em inteligência artificial, tem projetos relevantes no país, como o Watson Health, que utiliza algoritmos cognitivos para ajudar no diagnóstico de doenças.\\n\\nAlém disso, há startups brasileiras que estão explorando o potencial das tecnologias cognitivas, desenvolvendo soluções inovadoras para problemas locais. Essas empresas frequentemente participam de programas de aceleração e fóruns tecnológicos para aprimorar suas soluções e alcançar maior escala.\\n\\nPortanto, \\\"Cognitiva Brasil\\\" pode representar a adoção e desenvolvimento de tecnologias cognitivas no Brasil, impactando positivamente vários setores da economia e da sociedade.\",\n",
            "    \"groq:mixtral-8x7b-32768\": \"A Cognitiva é uma empresa de tecnologia da informação brasileira especializada em soluções de Inteligência Artificial (IA) e Machine Learning. Fundada em 2013, a Cognitiva tem como missão ajudar as empresas a tirar o máximo proveito de suas informações e a automatizar processos complexos usando a IA.\\n\\nA empresa é conhecida por sua plataforma de IA chamada \\\"Watson\\\", que é baseada na tecnologia de IA do IBM. A plataforma Watson oferece uma variedade de recursos e ferramentas, como análise de sentimentos, reconhecimento de imagens, processamento de linguagem natural e aprendizado automático, que podem ser usados para desenvolver aplicativos e soluções personalizadas.\\n\\nA Cognitiva tem uma equipe de especialistas em IA e Machine Learning que trabalham em estreita colaboração com as empresas para entender suas necessidades e desenvolver soluções personalizadas que ajudem a melhorar a eficiência, a produtividade e a competitividade. Além disso, a empresa oferece treinamento e suporte contínuo para ajudar as empresas a obter o máximo valor de suas soluções de IA.\\n\\nA Cognitiva tem uma forte presença no mercado brasileiro e tem trabalhado com uma variedade de clientes em diferentes setores, incluindo saúde, educação, finanças, bancos, comércio e serviços.\"\n",
            "}\n",
            "\n",
            "📌 Pergunta: Qual o valor da cotação do dólar hoje?\n",
            "{\n",
            "    \"groq:llama-3.3-70b-specdec\": \"Até a data do meu último conhecimento em 01 de setembro de 2022, a cotação do dólar variava constantemente devido a fatores como a economia, política e mercado financeiro global. Não tenho acesso a informações em tempo real, então não posso fornecer a cotação exata do dólar neste momento.\\n\\nPara obter a cotação mais atualizada do dólar, recomendo verificar sites de notícias financeiras confiáveis, bancos ou aplicativos de câmbio. Eles geralmente fornecem informações atualizadas sobre as taxas de câmbio em tempo real.\\n\\nAlém disso, é importante lembrar que as taxas de câmbio podem variar dependendo do tipo de dólar (dólar comercial, dólar turismo, etc.) e do local onde você está realizando a transação. Sempre verifique as taxas atuais e quaisquer taxas adicionais que possam ser aplicadas antes de realizar qualquer transação financeira internacional.\",\n",
            "    \"anthropic:claude-3-5-haiku-20241022\": \"Peço desculpas, mas não posso fornecer a cotação exata do dólar em tempo real. As taxas de câmbio mudam constantemente durante o dia. Para obter o valor atual, sugiro que você consulte:\\n\\n1. Sites especializados em câmbio\\n2. Sites de bancos \\n3. Aplicativos de cotações financeiras\\n4. Casas de câmbio\\n5. Sites como Banco Central ou corretoras\\n\\nEsses locais podem te dar a cotação mais atualizada do momento.\",\n",
            "    \"groq:deepseek-r1-distill-qwen-32b\": \"Para saber a cotação atual do dólar, recomendo verificar em fontes confiáveis como sites de notícias financeiras, como o *Bloomberg*, *Reuters*, ou *Money Times*, ou usar um buscador como o Google para obter a cotação em tempo real. Você也可以 usar o Google Pesquisa直接搜索“cotação dólar hoje” para obter a informação mais atualizada.\",\n",
            "    \"groq:mixtral-8x7b-32768\": \"I'm glad you find me helpful! I'm an AI and I don't have real-time access to financial data, so I can't provide the current exchange rate for you. I recommend checking a reliable financial news site or a financial market app for the most accurate and up-to-date information. They will have the current exchange rate for the US dollar (USD) against the Brazilian real (BRL) or any other currency you're interested in.\"\n",
            "}\n",
            "\n",
            "📌 Pergunta: Quais são as principais notícias do mundo hoje?\n",
            "{\n",
            "    \"groq:llama-3.3-70b-specdec\": \"Olá! Estou aqui para ajudar. As notícias do mundo mudam rapidamente, mas aqui estão algumas das principais notícias atuais:\\n\\n1. **Conflitos Globais**:\\n * O conflito entre Israel e Palestina continua a ser uma fonte de tensão no Oriente Médio.\\n * A crise na Ucrânia também permanece uma preocupação, com a Rússia continuando a exercer influência sobre a região.\\n2. **Mudanças Climáticas**:\\n * O aquecimento global e as mudanças climáticas continuam a ser uma das principais preocupações globais, com eventos climáticos extremos como furacões, incêndios florestais e secas afetando comunidades em todo o mundo.\\n3. **Economia Global**:\\n * A economia global está passando por um período de incerteza, com a inflação, as taxas de juros e o comércio internacional sendo afetados pela pandemia de COVID-19 e outras questões.\\n4. **Saúde Pública**:\\n * A pandemia de COVID-19 continua a ser uma ameaça à saúde pública, com novas variantes e surtos sendo reportados em diferentes partes do mundo.\\n5. **Tecnologia e Inovação**:\\n * O desenvolvimento de tecnologias como a inteligência artificial, a robótica e a biotecnologia continua a avançar rapidamente, com implicações significativas para a sociedade e a economia.\\n6. **Política e Geopolítica**:\\n * As eleições e os governos em todo o mundo estão sendo afetados por questões como a desinformação, a segurança cibernética e a influência de potências estrangeiras.\\n7. **Meio Ambiente**:\\n * A degradação ambiental, a perda de biodiversidade e a poluição continuam a ser problemas crescentes, com implicações para a saúde humana e a sustentabilidade do planeta.\\n\\nEssas são apenas algumas das principais notícias atuais, e é importante lembrar que as notícias estão sempre mudando. Se você tiver alguma questão específica ou quiser saber mais sobre um tópico em particular, sinta-se à vontade para perguntar!\\n\\n**Fontes:**\\n\\n* BBC News\\n* The New York Times\\n* Al Jazeera\\n* CNN\\n* Reuters\\n\\nLembre-se de que é importante verificar as fontes e verificar a veracidade das informações para ter uma visão precisa das notícias.\",\n",
            "    \"anthropic:claude-3-5-haiku-20241022\": \"Peço desculpas, mas como sou um assistente de IA, não tenho acesso em tempo real às notícias atuais. Para obter as últimas notícias, sugiro que você:\\n\\n1. Consulte sites de notícias confiáveis\\n2. Assista a telejornais \\n3. Ouça noticiários de rádio\\n4. Acesse portais de notícias online\\n5. Use aplicativos de notícias\\n\\nAlgumas fontes confiáveis no Brasil incluem:\\n- G1\\n- Globo News\\n- UOL Notícias\\n- Folha de S.Paulo\\n- Estado de S.Paulo\\n\\nGostaria de alguma orientação adicional sobre como se manter informado?\",\n",
            "    \"groq:deepseek-r1-distill-qwen-32b\": \"As of my last update in July 2024, here are some of the key news stories from around the world:\\n\\n### **América do Sul**\\n- **Brasil**: O presidente Luiz Inácio Lula da Silva fez uma série de visitas ao Nordeste para discutir programas sociais e infraestrutura. Além disso, houve tensão diplomática com os Estados Unidos após a captura de um navio ligado ao Irã.\\n\\n### **Estados Unidos**\\n- **Economia**: A inflação segue sendo um problema, com o Federal Reserve considerando mais aumentos nas taxas de juros. Além disso, um novo projeto de lei sobre infraestrutura está sendo discutido no Congresso, focado em energia limpa.\\n\\n### **Europa**\\n- **Crise Energética**: A União Europeia continua lidando com os efeitos da redução do fornecimento de gás russo, afetando especialmente países como Alemanha e França. Protestos contra o aumento dos preços dos combustíveis foram registrados em vários países.\\n\\n### ** Oriente Médio\\n- **Conflito em Gaza**: O Hamas e Israel continuam os confrontos, com ataques aéreos israelenses e um alto número de vítimas, incluindo civis.\\n- **Produção de Petróleo**: A OPEP+ decidiu reduzir a produção de petróleo, o que pode afetar os preços globais do combustível.\\n\\n### **Ásia**\\n- **China**: O governo continua implementando medidas rigorosas de lockdown em cidades como Xangai, o que tem gerado protestos.\\n- **Coreia do Norte**: Testes de mísseis balísticos têm sido frequentes, gerando preocupações sobre a segurança regional e o programa nuclear do país.\\n\\n### **África**\\n- **Conflitos no Saara Ocidental**: A violência entre grupos armados e forças governamentais continua a afetar a região.\\n- **Ebola na República Democrática do Congo**: Um novo surto da doença está sendo combatido com a ajuda de organizações internacionais.\\n\\n### **Mundo**\\n- **Câmbio Climático**: Relatórios recentes da ONU alertam para o aquecimento global e seus efeitos na biodiversidade e nos sistemas climáticos.\\n\\nEstas são algumas das principais notícias globais. Se você quiser mais detalhes sobre algum assunto específico, sinta-se à vontade para perguntar!\",\n",
            "    \"groq:mixtral-8x7b-32768\": \"Hoje, algumas das principais notícias do mundo incluem:\\n\\n1. COVID-19: Os casos globais de COVID-19 passaram a marca de 500 milhões, com a variante Ómicron sendo a predominante em muitos países. Alguns governos estão relaxando as medidas de restrição, enquanto outros mantêm as restrições devido ao aumento dos casos.\\n\\n2. Crise na Ucrânia: As tensões continuam a aumentar entre a Rússia e a Ucrânia, com a Rússia acumulando tropas na fronteira ucraniana. Os EUA e a OTAN estão alertando sobre uma possível invasão russa e estão considerando sanções e outras medidas para dissuadir a Rússia.\\n\\n3. Tensões no Oriente Médio: Houve recentes ataques de drones contra as instalações de petróleo da Arábia Saudita, que foram atribuídos ao grupo rebelde houthi do Iêmen. Os EUA culparam o Irã por estar por trás dos ataques.\\n\\n4. Clima: O relatório mais recente do Painel Intergovernamental sobre Mudanças Climáticas (IPCC) alertou sobre as graves consequências do aquecimento global e instou os países a reduzirem as emissões de gases de efeito estufa.\\n\\n5. Política dos EUA: A Câmara dos Representantes dos EUA aprovou um projeto de lei que estenderia os benefícios do seguro de desemprego e forneceria assistência aos afetados pela pandemia de COVID-19. O projeto de lei agora é encaminhado ao Senado.\\n\\nEssas são algumas das principais notícias do mundo hoje. Por favor, verifique as fontes confiáveis para obter as informações mais recentes e atualizadas.\"\n",
            "}\n"
          ]
        }
      ]
    },
    {
      "cell_type": "markdown",
      "source": [
        "## Ranquear Respostas e Exibir Resultados\n",
        "\n"
      ],
      "metadata": {
        "id": "9pmqztn2UzDE"
      }
    },
    {
      "cell_type": "code",
      "source": [
        "import re\n",
        "from tabulate import tabulate\n",
        "\n",
        "def extrair_ranking(resposta, num_respostas):\n",
        "    match = re.search(r'\\[(\\d+,\\s*)*\\d+\\]', resposta)\n",
        "    if match:\n",
        "        try:\n",
        "            ranking = eval(match.group())\n",
        "            if isinstance(ranking, list) and len(ranking) == num_respostas:\n",
        "                if all(isinstance(x, int) and 1 <= x <= num_respostas for x in ranking):\n",
        "                    return ranking\n",
        "        except:\n",
        "            pass\n",
        "    return None\n",
        "\n",
        "def ranquear_respostas(pergunta, respostas, model):\n",
        "\n",
        "    respostas_formatadas = \"\\n\".join([f\"{idx + 1}. {resposta}\" for idx, resposta in enumerate(respostas)])\n",
        "\n",
        "    prompt = f\"\"\"\n",
        "    Abaixo estão as respostas de diferentes modelos para a pergunta: '{pergunta}'.\n",
        "    Por favor, ranqueie as respostas de 1 a {len(respostas)} (sendo 1 a melhor) com base nos seguintes critérios:\n",
        "    - Clareza e coerência\n",
        "    - Precisão da informação\n",
        "    - Criatividade ou profundidade\n",
        "    - Consistência gramatical\n",
        "\n",
        "    Respostas:\n",
        "    {respostas_formatadas}\n",
        "\n",
        "    Por favor, retorne apenas uma lista de números na ordem do ranking (exemplo: [2, 1, 3]).\n",
        "    \"\"\"\n",
        "\n",
        "    try:\n",
        "        resposta_modelo = ask(prompt, model=model)\n",
        "        ranking = extrair_ranking(resposta_modelo, len(respostas))\n",
        "        return ranking\n",
        "    except Exception as e:\n",
        "        print(f\"Erro ao ranquear respostas com {model}: {str(e)}\")\n",
        "        return None\n",
        "\n",
        "# Armazenar rankings de cada modelo\n",
        "rankings_por_pergunta = {pergunta: {provider: None for provider in providers} for pergunta in perguntas}\n",
        "\n",
        "\n",
        "for pergunta in perguntas:\n",
        "    respostas = [respostas_por_pergunta[pergunta][provider] for provider in providers]\n",
        "\n",
        "    for provider in providers:\n",
        "        ranking = ranquear_respostas(pergunta, respostas, provider)\n",
        "        rankings_por_pergunta[pergunta][provider] = ranking\n",
        "\n",
        "\n",
        "def calcular_ranking_final(rankings):\n",
        "    pontuacoes = {idx: 0 for idx in range(len(providers))}\n",
        "    rankings_validos = [ranking for ranking in rankings.values() if ranking is not None]\n",
        "\n",
        "    if not rankings_validos:\n",
        "        return list(range(len(providers))), pontuacoes\n",
        "\n",
        "    for ranking in rankings_validos:\n",
        "        for posicao, idx in enumerate(ranking):\n",
        "            pontuacoes[idx - 1] += posicao + 1\n",
        "\n",
        "\n",
        "    ranking_final = sorted(pontuacoes.keys(), key=lambda x: pontuacoes[x])\n",
        "    return ranking_final, pontuacoes\n",
        "\n",
        "from tabulate import tabulate\n",
        "\n",
        "\n",
        "print(\"\\n🏆 Rankings Finais:\")\n",
        "for pergunta in perguntas:\n",
        "    print(f\"\\n📌 Pergunta: {pergunta}\\n\")\n",
        "\n",
        "    # Calcular o ranking final\n",
        "    ranking_final, pontuacoes = calcular_ranking_final(rankings_por_pergunta[pergunta])\n",
        "\n",
        "    # Preparar dados para a tabela\n",
        "    tabela_ranking = []\n",
        "    for posicao, idx in enumerate(ranking_final, start=1):\n",
        "        provider = providers[idx]\n",
        "        tabela_ranking.append([posicao, provider,])\n",
        "\n",
        "\n",
        "    print(tabulate(tabela_ranking, headers=[\"🏅 Posição\", \"🤖 Modelo\"], tablefmt=\"fancy_grid\"))\n"
      ],
      "metadata": {
        "colab": {
          "base_uri": "https://localhost:8080/"
        },
        "collapsed": true,
        "id": "Q3KHaojkU-oC",
        "outputId": "9e3c5e41-b4b5-4ee4-8065-1fdd563de19e"
      },
      "execution_count": 7,
      "outputs": [
        {
          "output_type": "stream",
          "name": "stdout",
          "text": [
            "\n",
            "🏆 Rankings Finais:\n",
            "\n",
            "📌 Pergunta: O que vc sabe sobre a cognitiva Brasil?\n",
            "\n",
            "╒══════════════╤═════════════════════════════════════╕\n",
            "│   🏅 Posição │ 🤖 Modelo                           │\n",
            "╞══════════════╪═════════════════════════════════════╡\n",
            "│            1 │ groq:llama-3.3-70b-specdec          │\n",
            "├──────────────┼─────────────────────────────────────┤\n",
            "│            2 │ anthropic:claude-3-5-haiku-20241022 │\n",
            "├──────────────┼─────────────────────────────────────┤\n",
            "│            3 │ groq:mixtral-8x7b-32768             │\n",
            "├──────────────┼─────────────────────────────────────┤\n",
            "│            4 │ groq:deepseek-r1-distill-qwen-32b   │\n",
            "╘══════════════╧═════════════════════════════════════╛\n",
            "\n",
            "📌 Pergunta: Qual o valor da cotação do dólar hoje?\n",
            "\n",
            "╒══════════════╤═════════════════════════════════════╕\n",
            "│   🏅 Posição │ 🤖 Modelo                           │\n",
            "╞══════════════╪═════════════════════════════════════╡\n",
            "│            1 │ groq:llama-3.3-70b-specdec          │\n",
            "├──────────────┼─────────────────────────────────────┤\n",
            "│            2 │ anthropic:claude-3-5-haiku-20241022 │\n",
            "├──────────────┼─────────────────────────────────────┤\n",
            "│            3 │ groq:deepseek-r1-distill-qwen-32b   │\n",
            "├──────────────┼─────────────────────────────────────┤\n",
            "│            4 │ groq:mixtral-8x7b-32768             │\n",
            "╘══════════════╧═════════════════════════════════════╛\n",
            "\n",
            "📌 Pergunta: Quais são as principais notícias do mundo hoje?\n",
            "\n",
            "╒══════════════╤═════════════════════════════════════╕\n",
            "│   🏅 Posição │ 🤖 Modelo                           │\n",
            "╞══════════════╪═════════════════════════════════════╡\n",
            "│            1 │ groq:llama-3.3-70b-specdec          │\n",
            "├──────────────┼─────────────────────────────────────┤\n",
            "│            2 │ groq:deepseek-r1-distill-qwen-32b   │\n",
            "├──────────────┼─────────────────────────────────────┤\n",
            "│            3 │ groq:mixtral-8x7b-32768             │\n",
            "├──────────────┼─────────────────────────────────────┤\n",
            "│            4 │ anthropic:claude-3-5-haiku-20241022 │\n",
            "╘══════════════╧═════════════════════════════════════╛\n"
          ]
        }
      ]
    }
  ]
}